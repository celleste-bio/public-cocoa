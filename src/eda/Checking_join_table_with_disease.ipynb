{
  "nbformat": 4,
  "nbformat_minor": 0,
  "metadata": {
    "colab": {
      "provenance": []
    },
    "kernelspec": {
      "name": "python3",
      "display_name": "Python 3"
    },
    "language_info": {
      "name": "python"
    }
  },
  "cells": [
    {
      "cell_type": "code",
      "source": [
        "import pandas as pd\n",
        "from sklearn import linear_model\n",
        "import statsmodels.api as sm\n",
        "import numpy as np"
      ],
      "metadata": {
        "id": "OdbLwX4n0QfT"
      },
      "execution_count": null,
      "outputs": []
    },
    {
      "cell_type": "code",
      "execution_count": null,
      "metadata": {
        "id": "R-aE-GbpNafX",
        "colab": {
          "base_uri": "https://localhost:8080/"
        },
        "outputId": "4a5957ab-ff97-4e61-ddc6-f8b743a89c18"
      },
      "outputs": [
        {
          "output_type": "stream",
          "name": "stdout",
          "text": [
            "<class 'pandas.core.frame.DataFrame'>\n",
            "RangeIndex: 6186 entries, 0 to 6185\n",
            "Data columns (total 9 columns):\n",
            " #   Column                Non-Null Count  Dtype  \n",
            "---  ------                --------------  -----  \n",
            " 0   Pathogen              6186 non-null   object \n",
            " 1   Reaction              5643 non-null   object \n",
            " 2   Species               1969 non-null   object \n",
            " 3   Infection             1372 non-null   float64\n",
            " 4   Part                  3585 non-null   object \n",
            " 5   Notes                 2139 non-null   object \n",
            " 6   Info                  1150 non-null   object \n",
            " 7   Accession             146 non-null    object \n",
            " 8   Clone name + Refcode  6186 non-null   object \n",
            "dtypes: float64(1), object(8)\n",
            "memory usage: 435.1+ KB\n"
          ]
        }
      ],
      "source": [
        "df_ds = pd.read_csv('/content/disease_v2.csv')\n",
        "df_ds.info()"
      ]
    },
    {
      "cell_type": "code",
      "source": [
        "df_ds.info()"
      ],
      "metadata": {
        "colab": {
          "base_uri": "https://localhost:8080/"
        },
        "id": "vj2vHo4I2kTh",
        "outputId": "2b6cc0ce-f8e7-450f-8c68-9f006a4ffa42"
      },
      "execution_count": null,
      "outputs": [
        {
          "output_type": "stream",
          "name": "stdout",
          "text": [
            "<class 'pandas.core.frame.DataFrame'>\n",
            "RangeIndex: 6186 entries, 0 to 6185\n",
            "Data columns (total 9 columns):\n",
            " #   Column                Non-Null Count  Dtype  \n",
            "---  ------                --------------  -----  \n",
            " 0   Pathogen              6186 non-null   object \n",
            " 1   Reaction              5643 non-null   object \n",
            " 2   Species               1969 non-null   object \n",
            " 3   Infection             1372 non-null   float64\n",
            " 4   Part                  3585 non-null   object \n",
            " 5   Notes                 2139 non-null   object \n",
            " 6   Info                  1150 non-null   object \n",
            " 7   Accession             146 non-null    object \n",
            " 8   Clone name + Refcode  6186 non-null   object \n",
            "dtypes: float64(1), object(8)\n",
            "memory usage: 435.1+ KB\n"
          ]
        }
      ]
    },
    {
      "cell_type": "code",
      "source": [
        "df_fl = pd.read_csv('/content/flower_v2.csv')\n",
        "df_fl.info()"
      ],
      "metadata": {
        "colab": {
          "base_uri": "https://localhost:8080/"
        },
        "id": "MKUIySpv0dFv",
        "outputId": "2fcc9d7e-76b1-431e-d0c4-d82f0d85b34d"
      },
      "execution_count": null,
      "outputs": [
        {
          "output_type": "stream",
          "name": "stdout",
          "text": [
            "<class 'pandas.core.frame.DataFrame'>\n",
            "RangeIndex: 4061 entries, 0 to 4060\n",
            "Data columns (total 40 columns):\n",
            " #   Column                Non-Null Count  Dtype  \n",
            "---  ------                --------------  -----  \n",
            " 0   Self compatibility    1578 non-null   object \n",
            " 1   Ovule number          2272 non-null   float64\n",
            " 2   Ligule colour         2511 non-null   object \n",
            " 3   Stamen colour         2512 non-null   object \n",
            " 4   Sepal colour          706 non-null    object \n",
            " 5   Sepal width           590 non-null    float64\n",
            " 6   Sepal length          2611 non-null   float64\n",
            " 7   Sepal orientation     31 non-null     object \n",
            " 8   Ligule length         567 non-null    float64\n",
            " 9   Ligule width          2491 non-null   float64\n",
            " 10  Ovary colour          507 non-null    object \n",
            " 11  Ovary width           567 non-null    float64\n",
            " 12  Ovary length          568 non-null    float64\n",
            " 13  Style length          2492 non-null   float64\n",
            " 14  Staminode colour      299 non-null    object \n",
            " 15  Staminode length      587 non-null    float64\n",
            " 16  Stamen size           60 non-null     object \n",
            " 17  Sepal size            59 non-null     object \n",
            " 18  Ligule size           60 non-null     object \n",
            " 19  Pedicel size          60 non-null     object \n",
            " 20  Bud colour            134 non-null    object \n",
            " 21  Guide line length     135 non-null    float64\n",
            " 22  Ribbon length         205 non-null    float64\n",
            " 23  Ribbon colour         135 non-null    object \n",
            " 24  Style colour          134 non-null    object \n",
            " 25  Pedicel length        264 non-null    float64\n",
            " 26  Hairs                 208 non-null    object \n",
            " 27  Pigmented glands      207 non-null    object \n",
            " 28  Horns                 135 non-null    object \n",
            " 29  Notes                 408 non-null    object \n",
            " 30  Sepal length width    159 non-null    float64\n",
            " 31  Ligule length width   139 non-null    float64\n",
            " 32  Ovary length width    140 non-null    float64\n",
            " 33  Pigmented spot        67 non-null     object \n",
            " 34  Info                  405 non-null    object \n",
            " 35  Sepal shape           17 non-null     object \n",
            " 36  Ligule shape          18 non-null     object \n",
            " 37  Accession             60 non-null     object \n",
            " 38  Petal length          72 non-null     float64\n",
            " 39  Clone name + Refcode  4061 non-null   object \n",
            "dtypes: float64(16), object(24)\n",
            "memory usage: 1.2+ MB\n"
          ]
        }
      ]
    },
    {
      "cell_type": "code",
      "source": [
        "df_fl.info()"
      ],
      "metadata": {
        "colab": {
          "base_uri": "https://localhost:8080/"
        },
        "id": "VpXeGA7I28i7",
        "outputId": "cb508414-0189-4695-ef71-b125bebfe49b"
      },
      "execution_count": null,
      "outputs": [
        {
          "output_type": "stream",
          "name": "stdout",
          "text": [
            "<class 'pandas.core.frame.DataFrame'>\n",
            "RangeIndex: 4061 entries, 0 to 4060\n",
            "Data columns (total 40 columns):\n",
            " #   Column                Non-Null Count  Dtype  \n",
            "---  ------                --------------  -----  \n",
            " 0   Self compatibility    1578 non-null   object \n",
            " 1   Ovule number          2272 non-null   float64\n",
            " 2   Ligule colour         2511 non-null   object \n",
            " 3   Stamen colour         2512 non-null   object \n",
            " 4   Sepal colour          706 non-null    object \n",
            " 5   Sepal width           590 non-null    float64\n",
            " 6   Sepal length          2611 non-null   float64\n",
            " 7   Sepal orientation     31 non-null     object \n",
            " 8   Ligule length         567 non-null    float64\n",
            " 9   Ligule width          2491 non-null   float64\n",
            " 10  Ovary colour          507 non-null    object \n",
            " 11  Ovary width           567 non-null    float64\n",
            " 12  Ovary length          568 non-null    float64\n",
            " 13  Style length          2492 non-null   float64\n",
            " 14  Staminode colour      299 non-null    object \n",
            " 15  Staminode length      587 non-null    float64\n",
            " 16  Stamen size           60 non-null     object \n",
            " 17  Sepal size            59 non-null     object \n",
            " 18  Ligule size           60 non-null     object \n",
            " 19  Pedicel size          60 non-null     object \n",
            " 20  Bud colour            134 non-null    object \n",
            " 21  Guide line length     135 non-null    float64\n",
            " 22  Ribbon length         205 non-null    float64\n",
            " 23  Ribbon colour         135 non-null    object \n",
            " 24  Style colour          134 non-null    object \n",
            " 25  Pedicel length        264 non-null    float64\n",
            " 26  Hairs                 208 non-null    object \n",
            " 27  Pigmented glands      207 non-null    object \n",
            " 28  Horns                 135 non-null    object \n",
            " 29  Notes                 408 non-null    object \n",
            " 30  Sepal length width    159 non-null    float64\n",
            " 31  Ligule length width   139 non-null    float64\n",
            " 32  Ovary length width    140 non-null    float64\n",
            " 33  Pigmented spot        67 non-null     object \n",
            " 34  Info                  405 non-null    object \n",
            " 35  Sepal shape           17 non-null     object \n",
            " 36  Ligule shape          18 non-null     object \n",
            " 37  Accession             60 non-null     object \n",
            " 38  Petal length          72 non-null     float64\n",
            " 39  Clone name + Refcode  4061 non-null   object \n",
            "dtypes: float64(16), object(24)\n",
            "memory usage: 1.2+ MB\n"
          ]
        }
      ]
    },
    {
      "cell_type": "code",
      "source": [
        "df_ds_fl = pd.merge(df_ds, df_fl, on='Clone name + Refcode', how='inner')"
      ],
      "metadata": {
        "id": "_wxwptUf0I-t"
      },
      "execution_count": null,
      "outputs": []
    },
    {
      "cell_type": "code",
      "source": [
        "df_ds_fl.info()"
      ],
      "metadata": {
        "colab": {
          "base_uri": "https://localhost:8080/"
        },
        "id": "eqvxkA3s0MxJ",
        "outputId": "a1f48f58-1935-4994-d01e-9cf2036f2ef9"
      },
      "execution_count": null,
      "outputs": [
        {
          "output_type": "stream",
          "name": "stdout",
          "text": [
            "<class 'pandas.core.frame.DataFrame'>\n",
            "Int64Index: 987 entries, 0 to 986\n",
            "Data columns (total 48 columns):\n",
            " #   Column                Non-Null Count  Dtype  \n",
            "---  ------                --------------  -----  \n",
            " 0   Pathogen              987 non-null    object \n",
            " 1   Reaction              723 non-null    object \n",
            " 2   Species               238 non-null    object \n",
            " 3   Infection             464 non-null    float64\n",
            " 4   Part                  511 non-null    object \n",
            " 5   Notes_x               551 non-null    object \n",
            " 6   Info_x                185 non-null    object \n",
            " 7   Accession_x           390 non-null    object \n",
            " 8   Clone name + Refcode  987 non-null    object \n",
            " 9   Self compatibility    789 non-null    object \n",
            " 10  Ovule number          226 non-null    float64\n",
            " 11  Ligule colour         369 non-null    object \n",
            " 12  Stamen colour         225 non-null    object \n",
            " 13  Sepal colour          343 non-null    object \n",
            " 14  Sepal width           226 non-null    float64\n",
            " 15  Sepal length          226 non-null    float64\n",
            " 16  Sepal orientation     0 non-null      object \n",
            " 17  Ligule length         226 non-null    float64\n",
            " 18  Ligule width          226 non-null    float64\n",
            " 19  Ovary colour          93 non-null     object \n",
            " 20  Ovary width           226 non-null    float64\n",
            " 21  Ovary length          226 non-null    float64\n",
            " 22  Style length          226 non-null    float64\n",
            " 23  Staminode colour      351 non-null    object \n",
            " 24  Staminode length      226 non-null    float64\n",
            " 25  Stamen size           161 non-null    object \n",
            " 26  Sepal size            158 non-null    object \n",
            " 27  Ligule size           161 non-null    object \n",
            " 28  Pedicel size          161 non-null    object \n",
            " 29  Bud colour            189 non-null    object \n",
            " 30  Guide line length     190 non-null    float64\n",
            " 31  Ribbon length         190 non-null    float64\n",
            " 32  Ribbon colour         190 non-null    object \n",
            " 33  Style colour          189 non-null    object \n",
            " 34  Pedicel length        226 non-null    float64\n",
            " 35  Hairs                 190 non-null    object \n",
            " 36  Pigmented glands      190 non-null    object \n",
            " 37  Horns                 190 non-null    object \n",
            " 38  Notes_y               97 non-null     object \n",
            " 39  Sepal length width    93 non-null     float64\n",
            " 40  Ligule length width   93 non-null     float64\n",
            " 41  Ovary length width    93 non-null     float64\n",
            " 42  Pigmented spot        93 non-null     object \n",
            " 43  Info_y                40 non-null     object \n",
            " 44  Sepal shape           17 non-null     object \n",
            " 45  Ligule shape          18 non-null     object \n",
            " 46  Accession_y           390 non-null    object \n",
            " 47  Petal length          0 non-null      float64\n",
            "dtypes: float64(17), object(31)\n",
            "memory usage: 377.8+ KB\n"
          ]
        }
      ]
    },
    {
      "cell_type": "code",
      "source": [
        "df_bn = pd.read_csv('/content/bean_v1.csv')\n",
        "df_bn.info()"
      ],
      "metadata": {
        "colab": {
          "base_uri": "https://localhost:8080/"
        },
        "id": "dKrlUqSN1zPb",
        "outputId": "ccc70f54-80d0-45b9-b34c-45fd839fb3c8"
      },
      "execution_count": null,
      "outputs": [
        {
          "output_type": "stream",
          "name": "stdout",
          "text": [
            "<class 'pandas.core.frame.DataFrame'>\n",
            "RangeIndex: 4562 entries, 0 to 4561\n",
            "Data columns (total 27 columns):\n",
            " #   Column                Non-Null Count  Dtype  \n",
            "---  ------                --------------  -----  \n",
            " 0   Number                3869 non-null   object \n",
            " 1   Total wet weight      2267 non-null   object \n",
            " 2   Dry weight            792 non-null    object \n",
            " 3   Cotyledon dry weight  2458 non-null   object \n",
            " 4   Cotyledon length      2301 non-null   object \n",
            " 5   Cotyledon width       2301 non-null   object \n",
            " 6   Cotyledon thickness   377 non-null    object \n",
            " 7   Colour purple         620 non-null    object \n",
            " 8   Colour light purple   1232 non-null   object \n",
            " 9   Colour white          1309 non-null   object \n",
            " 10  Colour mottled        531 non-null    object \n",
            " 11  Shape                 2291 non-null   object \n",
            " 12  Length                808 non-null    object \n",
            " 13  Width                 808 non-null    object \n",
            " 14  Thickness             670 non-null    object \n",
            " 15  Cotyledon wet weight  825 non-null    object \n",
            " 16  Wet weight            606 non-null    object \n",
            " 17  Number (max)          430 non-null    float64\n",
            " 18  Colour dark purple    1115 non-null   object \n",
            " 19  Info                  654 non-null    object \n",
            " 20  Colour                2155 non-null   object \n",
            " 21  Size                  632 non-null    object \n",
            " 22  Notes                 480 non-null    object \n",
            " 23  Total dry weight      206 non-null    float64\n",
            " 24  Colour grey           292 non-null    object \n",
            " 25  Accession             98 non-null     object \n",
            " 26  Clone name + Refcode  4562 non-null   object \n",
            "dtypes: float64(2), object(25)\n",
            "memory usage: 962.4+ KB\n"
          ]
        }
      ]
    },
    {
      "cell_type": "code",
      "source": [
        "df_ds_fl_bn = pd.merge(df_ds_fl, df_bn, on='Clone name + Refcode', how='inner')"
      ],
      "metadata": {
        "id": "jGw04E4z14OT"
      },
      "execution_count": null,
      "outputs": []
    },
    {
      "cell_type": "code",
      "source": [
        "df_ds_fl_bn.info()"
      ],
      "metadata": {
        "colab": {
          "base_uri": "https://localhost:8080/"
        },
        "id": "tgD3z0CY2BOO",
        "outputId": "2dd52fdc-b3aa-4ec0-c50a-19bc435c448a"
      },
      "execution_count": null,
      "outputs": [
        {
          "output_type": "stream",
          "name": "stdout",
          "text": [
            "<class 'pandas.core.frame.DataFrame'>\n",
            "Int64Index: 2224 entries, 0 to 2223\n",
            "Data columns (total 74 columns):\n",
            " #   Column                Non-Null Count  Dtype  \n",
            "---  ------                --------------  -----  \n",
            " 0   Pathogen              2224 non-null   object \n",
            " 1   Reaction              1273 non-null   object \n",
            " 2   Species               862 non-null    object \n",
            " 3   Infection             1712 non-null   float64\n",
            " 4   Part                  1687 non-null   object \n",
            " 5   Notes_x               1802 non-null   object \n",
            " 6   Info_x                643 non-null    object \n",
            " 7   Accession_x           1638 non-null   object \n",
            " 8   Clone name + Refcode  2224 non-null   object \n",
            " 9   Self compatibility    2032 non-null   object \n",
            " 10  Ovule number          228 non-null    float64\n",
            " 11  Ligule colour         377 non-null    object \n",
            " 12  Stamen colour         221 non-null    object \n",
            " 13  Sepal colour          348 non-null    object \n",
            " 14  Sepal width           228 non-null    float64\n",
            " 15  Sepal length          228 non-null    float64\n",
            " 16  Sepal orientation     0 non-null      object \n",
            " 17  Ligule length         228 non-null    float64\n",
            " 18  Ligule width          228 non-null    float64\n",
            " 19  Ovary colour          91 non-null     object \n",
            " 20  Ovary width           228 non-null    float64\n",
            " 21  Ovary length          228 non-null    float64\n",
            " 22  Style length          228 non-null    float64\n",
            " 23  Staminode colour      362 non-null    object \n",
            " 24  Staminode length      228 non-null    float64\n",
            " 25  Stamen size           170 non-null    object \n",
            " 26  Sepal size            167 non-null    object \n",
            " 27  Ligule size           170 non-null    object \n",
            " 28  Pedicel size          170 non-null    object \n",
            " 29  Bud colour            191 non-null    object \n",
            " 30  Guide line length     192 non-null    float64\n",
            " 31  Ribbon length         192 non-null    float64\n",
            " 32  Ribbon colour         192 non-null    object \n",
            " 33  Style colour          191 non-null    object \n",
            " 34  Pedicel length        228 non-null    float64\n",
            " 35  Hairs                 192 non-null    object \n",
            " 36  Pigmented glands      192 non-null    object \n",
            " 37  Horns                 192 non-null    object \n",
            " 38  Notes_y               101 non-null    object \n",
            " 39  Sepal length width    91 non-null     float64\n",
            " 40  Ligule length width   91 non-null     float64\n",
            " 41  Ovary length width    91 non-null     float64\n",
            " 42  Pigmented spot        91 non-null     object \n",
            " 43  Info_y                33 non-null     object \n",
            " 44  Sepal shape           16 non-null     object \n",
            " 45  Ligule shape          14 non-null     object \n",
            " 46  Accession_y           1638 non-null   object \n",
            " 47  Petal length          0 non-null      float64\n",
            " 48  Number                1809 non-null   object \n",
            " 49  Total wet weight      36 non-null     object \n",
            " 50  Dry weight            1809 non-null   object \n",
            " 51  Cotyledon dry weight  192 non-null    object \n",
            " 52  Cotyledon length      101 non-null    object \n",
            " 53  Cotyledon width       101 non-null    object \n",
            " 54  Cotyledon thickness   101 non-null    object \n",
            " 55  Colour purple         297 non-null    object \n",
            " 56  Colour light purple   382 non-null    object \n",
            " 57  Colour white          398 non-null    object \n",
            " 58  Colour mottled        192 non-null    object \n",
            " 59  Shape                 435 non-null    object \n",
            " 60  Length                1900 non-null   object \n",
            " 61  Width                 1900 non-null   object \n",
            " 62  Thickness             1900 non-null   object \n",
            " 63  Cotyledon wet weight  192 non-null    object \n",
            " 64  Wet weight            0 non-null      object \n",
            " 65  Number (max)          0 non-null      float64\n",
            " 66  Colour dark purple    291 non-null    object \n",
            " 67  Info                  1671 non-null   object \n",
            " 68  Colour                154 non-null    object \n",
            " 69  Size                  223 non-null    object \n",
            " 70  Notes                 99 non-null     object \n",
            " 71  Total dry weight      0 non-null      float64\n",
            " 72  Colour grey           0 non-null      object \n",
            " 73  Accession             1688 non-null   object \n",
            "dtypes: float64(19), object(55)\n",
            "memory usage: 1.3+ MB\n"
          ]
        }
      ]
    },
    {
      "cell_type": "code",
      "source": [
        "# Set display options to show all columns\n",
        "pd.set_option('display.max_columns', None)\n",
        "pd.set_option('display.expand_frame_repr', False)"
      ],
      "metadata": {
        "id": "w5W-AaZU4oTw"
      },
      "execution_count": null,
      "outputs": []
    },
    {
      "cell_type": "code",
      "source": [
        "# Set display option to show all rows\n",
        "pd.set_option('display.max_rows', None)"
      ],
      "metadata": {
        "id": "dtXENQmi5KWL"
      },
      "execution_count": null,
      "outputs": []
    },
    {
      "cell_type": "code",
      "source": [
        "missing_percentage = df_ds_fl_bn.isnull().mean() * 100\n",
        "  # Create a DataFrame to display the results\n",
        "missing_info = pd.DataFrame({\n",
        "      'Column': missing_percentage.index,\n",
        "      'Missing Percentage': missing_percentage.values })\n",
        "\n",
        "print(missing_info.sort_values(by=['Missing Percentage']))"
      ],
      "metadata": {
        "colab": {
          "base_uri": "https://localhost:8080/"
        },
        "id": "WlB5gKVe331Z",
        "outputId": "1a52fa2b-1647-411d-a3e4-1faa097dbb7d"
      },
      "execution_count": null,
      "outputs": [
        {
          "output_type": "stream",
          "name": "stdout",
          "text": [
            "                  Column  Missing Percentage\n",
            "0               Pathogen            0.000000\n",
            "8   Clone name + Refcode            0.000000\n",
            "9     Self compatibility            8.633094\n",
            "62             Thickness           14.568345\n",
            "61                 Width           14.568345\n",
            "60                Length           14.568345\n",
            "50            Dry weight           18.660072\n",
            "48                Number           18.660072\n",
            "5                Notes_x           18.974820\n",
            "3              Infection           23.021583\n",
            "73             Accession           24.100719\n",
            "4                   Part           24.145683\n",
            "67                  Info           24.865108\n",
            "7            Accession_x           26.348921\n",
            "46           Accession_y           26.348921\n",
            "1               Reaction           42.760791\n",
            "2                Species           61.241007\n",
            "6                 Info_x           71.088129\n",
            "59                 Shape           80.440647\n",
            "57          Colour white           82.104317\n",
            "56   Colour light purple           82.823741\n",
            "11         Ligule colour           83.048561\n",
            "23      Staminode colour           83.723022\n",
            "13          Sepal colour           84.352518\n",
            "55         Colour purple           86.645683\n",
            "66    Colour dark purple           86.915468\n",
            "22          Style length           89.748201\n",
            "21          Ovary length           89.748201\n",
            "20           Ovary width           89.748201\n",
            "18          Ligule width           89.748201\n",
            "17         Ligule length           89.748201\n",
            "34        Pedicel length           89.748201\n",
            "15          Sepal length           89.748201\n",
            "14           Sepal width           89.748201\n",
            "24      Staminode length           89.748201\n",
            "10          Ovule number           89.748201\n",
            "69                  Size           89.973022\n",
            "12         Stamen colour           90.062950\n",
            "63  Cotyledon wet weight           91.366906\n",
            "58        Colour mottled           91.366906\n",
            "51  Cotyledon dry weight           91.366906\n",
            "36      Pigmented glands           91.366906\n",
            "32         Ribbon colour           91.366906\n",
            "35                 Hairs           91.366906\n",
            "31         Ribbon length           91.366906\n",
            "37                 Horns           91.366906\n",
            "30     Guide line length           91.366906\n",
            "33          Style colour           91.411871\n",
            "29            Bud colour           91.411871\n",
            "25           Stamen size           92.356115\n",
            "27           Ligule size           92.356115\n",
            "28          Pedicel size           92.356115\n",
            "26            Sepal size           92.491007\n",
            "68                Colour           93.075540\n",
            "38               Notes_y           95.458633\n",
            "52      Cotyledon length           95.458633\n",
            "53       Cotyledon width           95.458633\n",
            "54   Cotyledon thickness           95.458633\n",
            "70                 Notes           95.548561\n",
            "19          Ovary colour           95.908273\n",
            "40   Ligule length width           95.908273\n",
            "39    Sepal length width           95.908273\n",
            "41    Ovary length width           95.908273\n",
            "42        Pigmented spot           95.908273\n",
            "49      Total wet weight           98.381295\n",
            "43                Info_y           98.516187\n",
            "44           Sepal shape           99.280576\n",
            "45          Ligule shape           99.370504\n",
            "72           Colour grey          100.000000\n",
            "47          Petal length          100.000000\n",
            "64            Wet weight          100.000000\n",
            "65          Number (max)          100.000000\n",
            "16     Sepal orientation          100.000000\n",
            "71      Total dry weight          100.000000\n"
          ]
        }
      ]
    },
    {
      "cell_type": "code",
      "source": [
        "df_ph = pd.read_csv('/content/phenotyping_v2.csv')\n",
        "df_ph.info()"
      ],
      "metadata": {
        "colab": {
          "base_uri": "https://localhost:8080/"
        },
        "id": "fSakReBQ5uuR",
        "outputId": "74e70dd1-3d89-4f90-bdb3-0761e4bb0eb8"
      },
      "execution_count": null,
      "outputs": [
        {
          "output_type": "stream",
          "name": "stdout",
          "text": [
            "<class 'pandas.core.frame.DataFrame'>\n",
            "RangeIndex: 295 entries, 0 to 294\n",
            "Data columns (total 11 columns):\n",
            " #   Column                               Non-Null Count  Dtype  \n",
            "---  ------                               --------------  -----  \n",
            " 0   Accession                            295 non-null    object \n",
            " 1   Light saturated photosynthetic rate  295 non-null    float64\n",
            " 2   Stomatal conductance                 295 non-null    float64\n",
            " 3   Transpiration rate                   295 non-null    float64\n",
            " 4   Intrinsic water use efficiency       295 non-null    float64\n",
            " 5   Instantaneous water use efficiency   295 non-null    float64\n",
            " 6   Flush size                           295 non-null    float64\n",
            " 7   Leaf area                            295 non-null    float64\n",
            " 8   Leaf dry weight                      295 non-null    float64\n",
            " 9   Specific leaf area                   295 non-null    float64\n",
            " 10  Clone name + Refcode                 295 non-null    object \n",
            "dtypes: float64(9), object(2)\n",
            "memory usage: 25.5+ KB\n"
          ]
        }
      ]
    },
    {
      "cell_type": "code",
      "source": [
        "df_ds_ph = pd.merge(df_ds, df_ph, on='Clone name + Refcode', how='inner')"
      ],
      "metadata": {
        "id": "HeUg-SIb54IN"
      },
      "execution_count": null,
      "outputs": []
    },
    {
      "cell_type": "code",
      "source": [
        "df_ds_ph.info()"
      ],
      "metadata": {
        "colab": {
          "base_uri": "https://localhost:8080/"
        },
        "id": "sMtndMkJ6ByL",
        "outputId": "ac960e1e-aba4-42e0-c3dd-02234c83d360"
      },
      "execution_count": null,
      "outputs": [
        {
          "output_type": "stream",
          "name": "stdout",
          "text": [
            "<class 'pandas.core.frame.DataFrame'>\n",
            "Index: 0 entries\n",
            "Data columns (total 19 columns):\n",
            " #   Column                               Non-Null Count  Dtype  \n",
            "---  ------                               --------------  -----  \n",
            " 0   Pathogen                             0 non-null      object \n",
            " 1   Reaction                             0 non-null      object \n",
            " 2   Species                              0 non-null      object \n",
            " 3   Infection                            0 non-null      float64\n",
            " 4   Part                                 0 non-null      object \n",
            " 5   Notes                                0 non-null      object \n",
            " 6   Info                                 0 non-null      object \n",
            " 7   Accession_x                          0 non-null      object \n",
            " 8   Clone name + Refcode                 0 non-null      object \n",
            " 9   Accession_y                          0 non-null      object \n",
            " 10  Light saturated photosynthetic rate  0 non-null      float64\n",
            " 11  Stomatal conductance                 0 non-null      float64\n",
            " 12  Transpiration rate                   0 non-null      float64\n",
            " 13  Intrinsic water use efficiency       0 non-null      float64\n",
            " 14  Instantaneous water use efficiency   0 non-null      float64\n",
            " 15  Flush size                           0 non-null      float64\n",
            " 16  Leaf area                            0 non-null      float64\n",
            " 17  Leaf dry weight                      0 non-null      float64\n",
            " 18  Specific leaf area                   0 non-null      float64\n",
            "dtypes: float64(10), object(9)\n",
            "memory usage: 0.0+ bytes\n"
          ]
        }
      ]
    },
    {
      "cell_type": "code",
      "source": [
        "df_fr = pd.read_csv('/content/fruit_v2.csv')\n",
        "df_fr.info()"
      ],
      "metadata": {
        "colab": {
          "base_uri": "https://localhost:8080/"
        },
        "id": "VesAyNVeA1rF",
        "outputId": "ebf217d3-17c7-4fc1-f25a-669e039e0727"
      },
      "execution_count": null,
      "outputs": [
        {
          "output_type": "stream",
          "name": "stdout",
          "text": [
            "<class 'pandas.core.frame.DataFrame'>\n",
            "RangeIndex: 5159 entries, 0 to 5158\n",
            "Data columns (total 21 columns):\n",
            " #   Column                Non-Null Count  Dtype  \n",
            "---  ------                --------------  -----  \n",
            " 0   Length                3278 non-null   float64\n",
            " 1   Breadth               3274 non-null   float64\n",
            " 2   Weight                1217 non-null   float64\n",
            " 3   Length breadth ratio  1353 non-null   float64\n",
            " 4   Notes                 630 non-null    object \n",
            " 5   Size                  485 non-null    object \n",
            " 6   Shape                 3021 non-null   object \n",
            " 7   Rugosity              3841 non-null   object \n",
            " 8   Ridge desc            474 non-null    object \n",
            " 9   Husk thickness        1021 non-null   object \n",
            " 10  Colour                3529 non-null   object \n",
            " 11  Basal constriction    3059 non-null   object \n",
            " 12  Apex form             3020 non-null   object \n",
            " 13  Husk weight           273 non-null    float64\n",
            " 14  Furrow depth          671 non-null    object \n",
            " 15  Hardness              1992 non-null   object \n",
            " 16  Info                  2128 non-null   object \n",
            " 17  Pods per tree         342 non-null    float64\n",
            " 18  Furrow desc           2196 non-null   object \n",
            " 19  Accession             73 non-null     object \n",
            " 20  Clone name + Refcode  5159 non-null   object \n",
            "dtypes: float64(6), object(15)\n",
            "memory usage: 846.5+ KB\n"
          ]
        }
      ]
    }
  ]
}